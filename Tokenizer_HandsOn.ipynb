{
  "nbformat": 4,
  "nbformat_minor": 0,
  "metadata": {
    "colab": {
      "provenance": [],
      "authorship_tag": "ABX9TyMXujPO5vso/uOkGJ5ZYkRz",
      "include_colab_link": true
    },
    "kernelspec": {
      "name": "python3",
      "display_name": "Python 3"
    },
    "language_info": {
      "name": "python"
    }
  },
  "cells": [
    {
      "cell_type": "markdown",
      "metadata": {
        "id": "view-in-github",
        "colab_type": "text"
      },
      "source": [
        "<a href=\"https://colab.research.google.com/github/Roshni19sharma99/LLM/blob/main/Tokenizer_HandsOn.ipynb\" target=\"_parent\"><img src=\"https://colab.research.google.com/assets/colab-badge.svg\" alt=\"Open In Colab\"/></a>"
      ]
    },
    {
      "cell_type": "markdown",
      "source": [
        "pip install nltk\n"
      ],
      "metadata": {
        "id": "-408UEU2lsb2"
      }
    },
    {
      "cell_type": "code",
      "source": [
        "corpus = \"\"\"Artificial intelligence is transforming the world at an unprecedented pace.From natural language processing to computer vision,AI-driven technologies are revolutionizing industries such as healthcare,finance, and transportation.However, ethical concerns surrounding data privacy,bias in algorithms, and job displacement continue to spark debates among experts.As AI evolves, striking a balance between innovation and responsibility will be crucial for ensuring a fair and inclusive future.\"\"\""
      ],
      "metadata": {
        "id": "pKOuOV9HmsSD"
      },
      "execution_count": 34,
      "outputs": []
    },
    {
      "cell_type": "code",
      "source": [
        "print(corpus)"
      ],
      "metadata": {
        "colab": {
          "base_uri": "https://localhost:8080/"
        },
        "id": "ZtW3NSLTrbzU",
        "outputId": "9ad51d71-2b1d-4d7c-9c2b-e33618a1aaed"
      },
      "execution_count": 35,
      "outputs": [
        {
          "output_type": "stream",
          "name": "stdout",
          "text": [
            "Artificial intelligence is transforming the world at an unprecedented pace.From natural language processing to computer vision,AI-driven technologies are revolutionizing industries such as healthcare,finance, and transportation.However, ethical concerns surrounding data privacy,bias in algorithms, and job displacement continue to spark debates among experts.As AI evolves, striking a balance between innovation and responsibility will be crucial for ensuring a fair and inclusive future.\n"
          ]
        }
      ]
    },
    {
      "cell_type": "code",
      "source": [
        "import nltk"
      ],
      "metadata": {
        "id": "urJ7w2NJ4RQZ"
      },
      "execution_count": 36,
      "outputs": []
    },
    {
      "cell_type": "code",
      "source": [
        "nltk.download('punkt_tab')"
      ],
      "metadata": {
        "colab": {
          "base_uri": "https://localhost:8080/"
        },
        "id": "x5Xr4zuU4F0w",
        "outputId": "c9474a0c-adcd-4d50-95fb-71209a23463b"
      },
      "execution_count": 37,
      "outputs": [
        {
          "output_type": "stream",
          "name": "stderr",
          "text": [
            "[nltk_data] Downloading package punkt_tab to /root/nltk_data...\n",
            "[nltk_data]   Package punkt_tab is already up-to-date!\n"
          ]
        },
        {
          "output_type": "execute_result",
          "data": {
            "text/plain": [
              "True"
            ]
          },
          "metadata": {},
          "execution_count": 37
        }
      ]
    },
    {
      "cell_type": "code",
      "source": [
        "#Tokenization\n",
        "#Sentence --> paragraph\n",
        "from nltk.tokenize import sent_tokenize"
      ],
      "metadata": {
        "id": "5_ensIMG2dD8"
      },
      "execution_count": 38,
      "outputs": []
    },
    {
      "cell_type": "code",
      "source": [
        "document = sent_tokenize(corpus)\n"
      ],
      "metadata": {
        "id": "talErbXH2_cz"
      },
      "execution_count": 39,
      "outputs": []
    },
    {
      "cell_type": "code",
      "source": [
        "print(document)"
      ],
      "metadata": {
        "colab": {
          "base_uri": "https://localhost:8080/"
        },
        "id": "WxNyjBst3ny0",
        "outputId": "7c184bd7-66a3-427f-86a6-273be2270546"
      },
      "execution_count": 40,
      "outputs": [
        {
          "output_type": "stream",
          "name": "stdout",
          "text": [
            "['Artificial intelligence is transforming the world at an unprecedented pace.From natural language processing to computer vision,AI-driven technologies are revolutionizing industries such as healthcare,finance, and transportation.However, ethical concerns surrounding data privacy,bias in algorithms, and job displacement continue to spark debates among experts.As AI evolves, striking a balance between innovation and responsibility will be crucial for ensuring a fair and inclusive future.']\n"
          ]
        }
      ]
    },
    {
      "cell_type": "code",
      "source": [
        "for sentence in document:\n",
        "  print('sentence = ',sentence)"
      ],
      "metadata": {
        "colab": {
          "base_uri": "https://localhost:8080/"
        },
        "id": "WRaTHB2Y4hRi",
        "outputId": "5801515b-cead-438d-cc39-0e67779e76e7"
      },
      "execution_count": 41,
      "outputs": [
        {
          "output_type": "stream",
          "name": "stdout",
          "text": [
            "sentence =  Artificial intelligence is transforming the world at an unprecedented pace.From natural language processing to computer vision,AI-driven technologies are revolutionizing industries such as healthcare,finance, and transportation.However, ethical concerns surrounding data privacy,bias in algorithms, and job displacement continue to spark debates among experts.As AI evolves, striking a balance between innovation and responsibility will be crucial for ensuring a fair and inclusive future.\n"
          ]
        }
      ]
    },
    {
      "cell_type": "code",
      "source": [
        "from nltk.tokenize import word_tokenize"
      ],
      "metadata": {
        "id": "D5xlPVCd6IpZ"
      },
      "execution_count": 42,
      "outputs": []
    },
    {
      "cell_type": "code",
      "source": [
        "word = word_tokenize(corpus)"
      ],
      "metadata": {
        "id": "1Szzdy0T6ToO"
      },
      "execution_count": 43,
      "outputs": []
    },
    {
      "cell_type": "code",
      "source": [
        "print(word)"
      ],
      "metadata": {
        "colab": {
          "base_uri": "https://localhost:8080/"
        },
        "id": "PVFfo9T56gRc",
        "outputId": "dabefa40-8ba0-4c67-f48f-d7eb6bfa646e"
      },
      "execution_count": 44,
      "outputs": [
        {
          "output_type": "stream",
          "name": "stdout",
          "text": [
            "['Artificial', 'intelligence', 'is', 'transforming', 'the', 'world', 'at', 'an', 'unprecedented', 'pace.From', 'natural', 'language', 'processing', 'to', 'computer', 'vision', ',', 'AI-driven', 'technologies', 'are', 'revolutionizing', 'industries', 'such', 'as', 'healthcare', ',', 'finance', ',', 'and', 'transportation.However', ',', 'ethical', 'concerns', 'surrounding', 'data', 'privacy', ',', 'bias', 'in', 'algorithms', ',', 'and', 'job', 'displacement', 'continue', 'to', 'spark', 'debates', 'among', 'experts.As', 'AI', 'evolves', ',', 'striking', 'a', 'balance', 'between', 'innovation', 'and', 'responsibility', 'will', 'be', 'crucial', 'for', 'ensuring', 'a', 'fair', 'and', 'inclusive', 'future', '.']\n"
          ]
        }
      ]
    },
    {
      "cell_type": "code",
      "source": [
        "for i in word:\n",
        "    print('word = ',i)"
      ],
      "metadata": {
        "colab": {
          "base_uri": "https://localhost:8080/"
        },
        "id": "_7SurZpC6n5q",
        "outputId": "39cc70b9-6ceb-420b-afeb-f591a53d41ef"
      },
      "execution_count": 46,
      "outputs": [
        {
          "output_type": "stream",
          "name": "stdout",
          "text": [
            "word =  Artificial\n",
            "word =  intelligence\n",
            "word =  is\n",
            "word =  transforming\n",
            "word =  the\n",
            "word =  world\n",
            "word =  at\n",
            "word =  an\n",
            "word =  unprecedented\n",
            "word =  pace.From\n",
            "word =  natural\n",
            "word =  language\n",
            "word =  processing\n",
            "word =  to\n",
            "word =  computer\n",
            "word =  vision\n",
            "word =  ,\n",
            "word =  AI-driven\n",
            "word =  technologies\n",
            "word =  are\n",
            "word =  revolutionizing\n",
            "word =  industries\n",
            "word =  such\n",
            "word =  as\n",
            "word =  healthcare\n",
            "word =  ,\n",
            "word =  finance\n",
            "word =  ,\n",
            "word =  and\n",
            "word =  transportation.However\n",
            "word =  ,\n",
            "word =  ethical\n",
            "word =  concerns\n",
            "word =  surrounding\n",
            "word =  data\n",
            "word =  privacy\n",
            "word =  ,\n",
            "word =  bias\n",
            "word =  in\n",
            "word =  algorithms\n",
            "word =  ,\n",
            "word =  and\n",
            "word =  job\n",
            "word =  displacement\n",
            "word =  continue\n",
            "word =  to\n",
            "word =  spark\n",
            "word =  debates\n",
            "word =  among\n",
            "word =  experts.As\n",
            "word =  AI\n",
            "word =  evolves\n",
            "word =  ,\n",
            "word =  striking\n",
            "word =  a\n",
            "word =  balance\n",
            "word =  between\n",
            "word =  innovation\n",
            "word =  and\n",
            "word =  responsibility\n",
            "word =  will\n",
            "word =  be\n",
            "word =  crucial\n",
            "word =  for\n",
            "word =  ensuring\n",
            "word =  a\n",
            "word =  fair\n",
            "word =  and\n",
            "word =  inclusive\n",
            "word =  future\n",
            "word =  .\n"
          ]
        }
      ]
    },
    {
      "cell_type": "code",
      "source": [
        "from nltk.tokenize import wordpunct_tokenize"
      ],
      "metadata": {
        "id": "x2sA_xzV7RM2"
      },
      "execution_count": 47,
      "outputs": []
    },
    {
      "cell_type": "code",
      "source": [
        "wordpunct_tokenize(corpus)"
      ],
      "metadata": {
        "colab": {
          "base_uri": "https://localhost:8080/"
        },
        "id": "UgJkX_YD9TMz",
        "outputId": "d78bf858-deb0-4325-8f71-a4a90539535d"
      },
      "execution_count": 48,
      "outputs": [
        {
          "output_type": "execute_result",
          "data": {
            "text/plain": [
              "['Artificial',\n",
              " 'intelligence',\n",
              " 'is',\n",
              " 'transforming',\n",
              " 'the',\n",
              " 'world',\n",
              " 'at',\n",
              " 'an',\n",
              " 'unprecedented',\n",
              " 'pace',\n",
              " '.',\n",
              " 'From',\n",
              " 'natural',\n",
              " 'language',\n",
              " 'processing',\n",
              " 'to',\n",
              " 'computer',\n",
              " 'vision',\n",
              " ',',\n",
              " 'AI',\n",
              " '-',\n",
              " 'driven',\n",
              " 'technologies',\n",
              " 'are',\n",
              " 'revolutionizing',\n",
              " 'industries',\n",
              " 'such',\n",
              " 'as',\n",
              " 'healthcare',\n",
              " ',',\n",
              " 'finance',\n",
              " ',',\n",
              " 'and',\n",
              " 'transportation',\n",
              " '.',\n",
              " 'However',\n",
              " ',',\n",
              " 'ethical',\n",
              " 'concerns',\n",
              " 'surrounding',\n",
              " 'data',\n",
              " 'privacy',\n",
              " ',',\n",
              " 'bias',\n",
              " 'in',\n",
              " 'algorithms',\n",
              " ',',\n",
              " 'and',\n",
              " 'job',\n",
              " 'displacement',\n",
              " 'continue',\n",
              " 'to',\n",
              " 'spark',\n",
              " 'debates',\n",
              " 'among',\n",
              " 'experts',\n",
              " '.',\n",
              " 'As',\n",
              " 'AI',\n",
              " 'evolves',\n",
              " ',',\n",
              " 'striking',\n",
              " 'a',\n",
              " 'balance',\n",
              " 'between',\n",
              " 'innovation',\n",
              " 'and',\n",
              " 'responsibility',\n",
              " 'will',\n",
              " 'be',\n",
              " 'crucial',\n",
              " 'for',\n",
              " 'ensuring',\n",
              " 'a',\n",
              " 'fair',\n",
              " 'and',\n",
              " 'inclusive',\n",
              " 'future',\n",
              " '.']"
            ]
          },
          "metadata": {},
          "execution_count": 48
        }
      ]
    },
    {
      "cell_type": "code",
      "source": [
        "from nltk.tokenize import TreebankWordTokenizer"
      ],
      "metadata": {
        "id": "RN5U5Oxk9bv-"
      },
      "execution_count": 49,
      "outputs": []
    },
    {
      "cell_type": "markdown",
      "source": [
        "Tokenizer = TreebankWordTokenizer()"
      ],
      "metadata": {
        "id": "-QgXr5vT_XBG"
      }
    },
    {
      "cell_type": "code",
      "source": [
        "Tokenizer.tokenize(corpus)\n",
        "# in case of tree bank word tokenizer '.' is not taken as separate word only for the last word '.' it is taken as a separate word"
      ],
      "metadata": {
        "colab": {
          "base_uri": "https://localhost:8080/"
        },
        "id": "mIqt48cS_mnl",
        "outputId": "b3adfb15-3a82-4993-d515-d4a06973780f"
      },
      "execution_count": 52,
      "outputs": [
        {
          "output_type": "execute_result",
          "data": {
            "text/plain": [
              "['Artificial',\n",
              " 'intelligence',\n",
              " 'is',\n",
              " 'transforming',\n",
              " 'the',\n",
              " 'world',\n",
              " 'at',\n",
              " 'an',\n",
              " 'unprecedented',\n",
              " 'pace.From',\n",
              " 'natural',\n",
              " 'language',\n",
              " 'processing',\n",
              " 'to',\n",
              " 'computer',\n",
              " 'vision',\n",
              " ',',\n",
              " 'AI-driven',\n",
              " 'technologies',\n",
              " 'are',\n",
              " 'revolutionizing',\n",
              " 'industries',\n",
              " 'such',\n",
              " 'as',\n",
              " 'healthcare',\n",
              " ',',\n",
              " 'finance',\n",
              " ',',\n",
              " 'and',\n",
              " 'transportation.However',\n",
              " ',',\n",
              " 'ethical',\n",
              " 'concerns',\n",
              " 'surrounding',\n",
              " 'data',\n",
              " 'privacy',\n",
              " ',',\n",
              " 'bias',\n",
              " 'in',\n",
              " 'algorithms',\n",
              " ',',\n",
              " 'and',\n",
              " 'job',\n",
              " 'displacement',\n",
              " 'continue',\n",
              " 'to',\n",
              " 'spark',\n",
              " 'debates',\n",
              " 'among',\n",
              " 'experts.As',\n",
              " 'AI',\n",
              " 'evolves',\n",
              " ',',\n",
              " 'striking',\n",
              " 'a',\n",
              " 'balance',\n",
              " 'between',\n",
              " 'innovation',\n",
              " 'and',\n",
              " 'responsibility',\n",
              " 'will',\n",
              " 'be',\n",
              " 'crucial',\n",
              " 'for',\n",
              " 'ensuring',\n",
              " 'a',\n",
              " 'fair',\n",
              " 'and',\n",
              " 'inclusive',\n",
              " 'future',\n",
              " '.']"
            ]
          },
          "metadata": {},
          "execution_count": 52
        }
      ]
    }
  ]
}