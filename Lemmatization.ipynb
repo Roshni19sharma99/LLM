{
  "nbformat": 4,
  "nbformat_minor": 0,
  "metadata": {
    "colab": {
      "provenance": [],
      "authorship_tag": "ABX9TyMl4rWSpgPBGqP7kvuB/mWt",
      "include_colab_link": true
    },
    "kernelspec": {
      "name": "python3",
      "display_name": "Python 3"
    },
    "language_info": {
      "name": "python"
    }
  },
  "cells": [
    {
      "cell_type": "markdown",
      "metadata": {
        "id": "view-in-github",
        "colab_type": "text"
      },
      "source": [
        "<a href=\"https://colab.research.google.com/github/Roshni19sharma99/LLM/blob/main/Lemmatization.ipynb\" target=\"_parent\"><img src=\"https://colab.research.google.com/assets/colab-badge.svg\" alt=\"Open In Colab\"/></a>"
      ]
    },
    {
      "cell_type": "markdown",
      "source": [
        "# **Lemmatiztion**\n",
        "\n",
        "It is technique to extract root word without altering the meaning of the word.\n",
        "Lemmatization is preferred over Stemming because lemmatization does morphological analysis of the words.\n"
      ],
      "metadata": {
        "id": "ZULIFa-JWAXl"
      }
    },
    {
      "cell_type": "code",
      "execution_count": 11,
      "metadata": {
        "id": "TTL2-4ABV9GH"
      },
      "outputs": [],
      "source": [
        "from nltk.stem import WordNetLemmatizer"
      ]
    },
    {
      "cell_type": "code",
      "source": [
        "lemmatizer = WordNetLemmatizer()"
      ],
      "metadata": {
        "id": "C2USoqfKW1jC"
      },
      "execution_count": 12,
      "outputs": []
    },
    {
      "cell_type": "code",
      "source": [
        "words = [\"eating\",\"eats\",\"eaten\",\"writing\",\"writes\",\"programming\",\"programs\",\"history\",\"finally\",\"finalized\"]"
      ],
      "metadata": {
        "id": "WLBPiathXITs"
      },
      "execution_count": 13,
      "outputs": []
    },
    {
      "cell_type": "code",
      "source": [
        "import nltk\n",
        "nltk.download('wordnet')"
      ],
      "metadata": {
        "id": "TTYXRb6wYJPK"
      },
      "execution_count": null,
      "outputs": []
    },
    {
      "cell_type": "code",
      "source": [
        "\n",
        "for word in words:\n",
        "  print(word,\" : \",lemmatizer.lemmatize(word,pos='v'))\n",
        "\n",
        "''' POS Nouns = n\n",
        "    Verbs = v\n",
        "    Adjectives = a\n",
        "    Adverbs = r\n",
        "\n",
        "'''"
      ],
      "metadata": {
        "colab": {
          "base_uri": "https://localhost:8080/",
          "height": 226
        },
        "id": "Dw92vQArXdbB",
        "outputId": "0ab4ada6-6529-4075-fae4-bcd6f9fe968a"
      },
      "execution_count": 15,
      "outputs": [
        {
          "output_type": "stream",
          "name": "stderr",
          "text": [
            "[nltk_data] Downloading package wordnet to /root/nltk_data...\n"
          ]
        },
        {
          "output_type": "stream",
          "name": "stdout",
          "text": [
            "eating  :  eat\n",
            "eats  :  eat\n",
            "eaten  :  eat\n",
            "writing  :  write\n",
            "writes  :  write\n",
            "programming  :  program\n",
            "programs  :  program\n",
            "history  :  history\n",
            "finally  :  finally\n",
            "finalized  :  finalize\n"
          ]
        },
        {
          "output_type": "execute_result",
          "data": {
            "text/plain": [
              "' POS Nouns = n\\n    Verbs = v\\n    Adjectives = a\\n    Adverbs = r\\n\\n'"
            ],
            "application/vnd.google.colaboratory.intrinsic+json": {
              "type": "string"
            }
          },
          "metadata": {},
          "execution_count": 15
        }
      ]
    }
  ]
}