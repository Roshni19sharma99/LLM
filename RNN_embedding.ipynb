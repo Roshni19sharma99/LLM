{
  "nbformat": 4,
  "nbformat_minor": 0,
  "metadata": {
    "colab": {
      "provenance": [],
      "authorship_tag": "ABX9TyNy7Feji1cOydBYaNeQ8/u2",
      "include_colab_link": true
    },
    "kernelspec": {
      "name": "python3",
      "display_name": "Python 3"
    },
    "language_info": {
      "name": "python"
    }
  },
  "cells": [
    {
      "cell_type": "markdown",
      "metadata": {
        "id": "view-in-github",
        "colab_type": "text"
      },
      "source": [
        "<a href=\"https://colab.research.google.com/github/Roshni19sharma99/LLM/blob/main/RNN_embedding.ipynb\" target=\"_parent\"><img src=\"https://colab.research.google.com/assets/colab-badge.svg\" alt=\"Open In Colab\"/></a>"
      ]
    },
    {
      "cell_type": "code",
      "execution_count": 122,
      "metadata": {
        "id": "1hVIeSoB72y9"
      },
      "outputs": [],
      "source": [
        "from tensorflow.keras.preprocessing.text import one_hot"
      ]
    },
    {
      "cell_type": "code",
      "source": [
        "Sent = [\n",
        "    'The cat sat on the warm windowsill, watching the birds fly by.',\n",
        "\n",
        "    'She bought fresh vegetables from the local farmer’s market.',\n",
        "\n",
        "    'A strong wind knocked over the garden gnome last night.',\n",
        "\n",
        "    'The astronaut looked down at Earth, feeling both awe and loneliness.'\n",
        "]"
      ],
      "metadata": {
        "id": "VR6LUEJd8T_y"
      },
      "execution_count": 123,
      "outputs": []
    },
    {
      "cell_type": "code",
      "source": [
        "##define the vocabulary size\n",
        "voc_size = 10000"
      ],
      "metadata": {
        "id": "2jGmNAvl8xfE"
      },
      "execution_count": 124,
      "outputs": []
    },
    {
      "cell_type": "code",
      "source": [
        "one_hot_repr = [one_hot(words,voc_size) for words in Sent]\n",
        "one_hot_repr"
      ],
      "metadata": {
        "colab": {
          "base_uri": "https://localhost:8080/"
        },
        "id": "9tUYW3Hc88J1",
        "outputId": "592c5406-fe90-460f-bcbd-0862837ca9a2"
      },
      "execution_count": 125,
      "outputs": [
        {
          "output_type": "execute_result",
          "data": {
            "text/plain": [
              "[[5330, 120, 5986, 988, 5330, 5861, 3420, 1058, 5330, 8753, 8335, 2183],\n",
              " [1734, 1790, 674, 7535, 7569, 5330, 9737, 2908, 7957],\n",
              " [1638, 4377, 645, 486, 5672, 5330, 6733, 9449, 9230, 2931],\n",
              " [5330, 2102, 3317, 4703, 9091, 8683, 5642, 9249, 8033, 1350, 9816]]"
            ]
          },
          "metadata": {},
          "execution_count": 125
        }
      ]
    },
    {
      "cell_type": "code",
      "source": [
        "##word embedding representation\n",
        "from tensorflow.keras.layers import Embedding\n",
        "from tensorflow.keras.preprocessing.sequence import pad_sequences\n",
        "from tensorflow.keras.models import Sequential\n",
        "from tensorflow.keras.utils import pad_sequences\n",
        "import numpy as np\n"
      ],
      "metadata": {
        "id": "8EfddSOX9btP"
      },
      "execution_count": 126,
      "outputs": []
    },
    {
      "cell_type": "code",
      "source": [
        "sent_length = 30\n",
        "embedded_docs = pad_sequences(one_hot_repr,padding='pre',maxlen=sent_length)\n",
        "print(embedded_docs)"
      ],
      "metadata": {
        "colab": {
          "base_uri": "https://localhost:8080/"
        },
        "id": "d1nD0KnnAPUR",
        "outputId": "96a048b4-2b6c-42b3-96e2-48250ca05b2c"
      },
      "execution_count": 127,
      "outputs": [
        {
          "output_type": "stream",
          "name": "stdout",
          "text": [
            "[[   0    0    0    0    0    0    0    0    0    0    0    0    0    0\n",
            "     0    0    0    0 5330  120 5986  988 5330 5861 3420 1058 5330 8753\n",
            "  8335 2183]\n",
            " [   0    0    0    0    0    0    0    0    0    0    0    0    0    0\n",
            "     0    0    0    0    0    0    0 1734 1790  674 7535 7569 5330 9737\n",
            "  2908 7957]\n",
            " [   0    0    0    0    0    0    0    0    0    0    0    0    0    0\n",
            "     0    0    0    0    0    0 1638 4377  645  486 5672 5330 6733 9449\n",
            "  9230 2931]\n",
            " [   0    0    0    0    0    0    0    0    0    0    0    0    0    0\n",
            "     0    0    0    0    0 5330 2102 3317 4703 9091 8683 5642 9249 8033\n",
            "  1350 9816]]\n"
          ]
        }
      ]
    },
    {
      "cell_type": "code",
      "source": [
        "dim = 10\n",
        "model = Sequential()\n",
        "model.add(Embedding(input_dim=voc_size,output_dim=dim,input_shape=(sent_length,)))\n",
        "model.compile(optimizer = 'adam',loss = 'mse')"
      ],
      "metadata": {
        "colab": {
          "base_uri": "https://localhost:8080/"
        },
        "id": "CjKsl5hMCR8y",
        "outputId": "b6313e21-88bd-4f5c-ed86-88ed703e19f7"
      },
      "execution_count": 128,
      "outputs": [
        {
          "output_type": "stream",
          "name": "stderr",
          "text": [
            "/usr/local/lib/python3.11/dist-packages/keras/src/layers/core/embedding.py:93: UserWarning: Do not pass an `input_shape`/`input_dim` argument to a layer. When using Sequential models, prefer using an `Input(shape)` object as the first layer in the model instead.\n",
            "  super().__init__(**kwargs)\n"
          ]
        }
      ]
    },
    {
      "cell_type": "code",
      "source": [
        "model.summary()"
      ],
      "metadata": {
        "colab": {
          "base_uri": "https://localhost:8080/",
          "height": 170
        },
        "id": "8acbY_hRDW01",
        "outputId": "7b6a31c0-0535-49ee-c5c1-87ff2fb2a944"
      },
      "execution_count": 129,
      "outputs": [
        {
          "output_type": "display_data",
          "data": {
            "text/plain": [
              "\u001b[1mModel: \"sequential_11\"\u001b[0m\n"
            ],
            "text/html": [
              "<pre style=\"white-space:pre;overflow-x:auto;line-height:normal;font-family:Menlo,'DejaVu Sans Mono',consolas,'Courier New',monospace\"><span style=\"font-weight: bold\">Model: \"sequential_11\"</span>\n",
              "</pre>\n"
            ]
          },
          "metadata": {}
        },
        {
          "output_type": "display_data",
          "data": {
            "text/plain": [
              "┏━━━━━━━━━━━━━━━━━━━━━━━━━━━━━━━━━━━━━━┳━━━━━━━━━━━━━━━━━━━━━━━━━━━━━┳━━━━━━━━━━━━━━━━━┓\n",
              "┃\u001b[1m \u001b[0m\u001b[1mLayer (type)                        \u001b[0m\u001b[1m \u001b[0m┃\u001b[1m \u001b[0m\u001b[1mOutput Shape               \u001b[0m\u001b[1m \u001b[0m┃\u001b[1m \u001b[0m\u001b[1m        Param #\u001b[0m\u001b[1m \u001b[0m┃\n",
              "┡━━━━━━━━━━━━━━━━━━━━━━━━━━━━━━━━━━━━━━╇━━━━━━━━━━━━━━━━━━━━━━━━━━━━━╇━━━━━━━━━━━━━━━━━┩\n",
              "│ embedding_10 (\u001b[38;5;33mEmbedding\u001b[0m)             │ (\u001b[38;5;45mNone\u001b[0m, \u001b[38;5;34m30\u001b[0m, \u001b[38;5;34m10\u001b[0m)              │         \u001b[38;5;34m100,000\u001b[0m │\n",
              "└──────────────────────────────────────┴─────────────────────────────┴─────────────────┘\n"
            ],
            "text/html": [
              "<pre style=\"white-space:pre;overflow-x:auto;line-height:normal;font-family:Menlo,'DejaVu Sans Mono',consolas,'Courier New',monospace\">┏━━━━━━━━━━━━━━━━━━━━━━━━━━━━━━━━━━━━━━┳━━━━━━━━━━━━━━━━━━━━━━━━━━━━━┳━━━━━━━━━━━━━━━━━┓\n",
              "┃<span style=\"font-weight: bold\"> Layer (type)                         </span>┃<span style=\"font-weight: bold\"> Output Shape                </span>┃<span style=\"font-weight: bold\">         Param # </span>┃\n",
              "┡━━━━━━━━━━━━━━━━━━━━━━━━━━━━━━━━━━━━━━╇━━━━━━━━━━━━━━━━━━━━━━━━━━━━━╇━━━━━━━━━━━━━━━━━┩\n",
              "│ embedding_10 (<span style=\"color: #0087ff; text-decoration-color: #0087ff\">Embedding</span>)             │ (<span style=\"color: #00d7ff; text-decoration-color: #00d7ff\">None</span>, <span style=\"color: #00af00; text-decoration-color: #00af00\">30</span>, <span style=\"color: #00af00; text-decoration-color: #00af00\">10</span>)              │         <span style=\"color: #00af00; text-decoration-color: #00af00\">100,000</span> │\n",
              "└──────────────────────────────────────┴─────────────────────────────┴─────────────────┘\n",
              "</pre>\n"
            ]
          },
          "metadata": {}
        },
        {
          "output_type": "display_data",
          "data": {
            "text/plain": [
              "\u001b[1m Total params: \u001b[0m\u001b[38;5;34m100,000\u001b[0m (390.62 KB)\n"
            ],
            "text/html": [
              "<pre style=\"white-space:pre;overflow-x:auto;line-height:normal;font-family:Menlo,'DejaVu Sans Mono',consolas,'Courier New',monospace\"><span style=\"font-weight: bold\"> Total params: </span><span style=\"color: #00af00; text-decoration-color: #00af00\">100,000</span> (390.62 KB)\n",
              "</pre>\n"
            ]
          },
          "metadata": {}
        },
        {
          "output_type": "display_data",
          "data": {
            "text/plain": [
              "\u001b[1m Trainable params: \u001b[0m\u001b[38;5;34m100,000\u001b[0m (390.62 KB)\n"
            ],
            "text/html": [
              "<pre style=\"white-space:pre;overflow-x:auto;line-height:normal;font-family:Menlo,'DejaVu Sans Mono',consolas,'Courier New',monospace\"><span style=\"font-weight: bold\"> Trainable params: </span><span style=\"color: #00af00; text-decoration-color: #00af00\">100,000</span> (390.62 KB)\n",
              "</pre>\n"
            ]
          },
          "metadata": {}
        },
        {
          "output_type": "display_data",
          "data": {
            "text/plain": [
              "\u001b[1m Non-trainable params: \u001b[0m\u001b[38;5;34m0\u001b[0m (0.00 B)\n"
            ],
            "text/html": [
              "<pre style=\"white-space:pre;overflow-x:auto;line-height:normal;font-family:Menlo,'DejaVu Sans Mono',consolas,'Courier New',monospace\"><span style=\"font-weight: bold\"> Non-trainable params: </span><span style=\"color: #00af00; text-decoration-color: #00af00\">0</span> (0.00 B)\n",
              "</pre>\n"
            ]
          },
          "metadata": {}
        }
      ]
    },
    {
      "cell_type": "code",
      "source": [
        "model.predict(embedded_docs)"
      ],
      "metadata": {
        "colab": {
          "base_uri": "https://localhost:8080/"
        },
        "id": "-ZzAgeZPFAI0",
        "outputId": "2e50dd40-d9db-4eca-dfce-4e3d31d2128e"
      },
      "execution_count": 130,
      "outputs": [
        {
          "output_type": "stream",
          "name": "stdout",
          "text": [
            "\u001b[1m1/1\u001b[0m \u001b[32m━━━━━━━━━━━━━━━━━━━━\u001b[0m\u001b[37m\u001b[0m \u001b[1m0s\u001b[0m 111ms/step\n"
          ]
        },
        {
          "output_type": "execute_result",
          "data": {
            "text/plain": [
              "array([[[-0.03111434,  0.02994943, -0.00515999, ..., -0.04209473,\n",
              "          0.0267409 , -0.01461345],\n",
              "        [-0.03111434,  0.02994943, -0.00515999, ..., -0.04209473,\n",
              "          0.0267409 , -0.01461345],\n",
              "        [-0.03111434,  0.02994943, -0.00515999, ..., -0.04209473,\n",
              "          0.0267409 , -0.01461345],\n",
              "        ...,\n",
              "        [-0.02651802,  0.01406001, -0.0213662 , ..., -0.01501646,\n",
              "          0.04687294, -0.02065138],\n",
              "        [ 0.00053651, -0.02809833, -0.04686522, ..., -0.01299013,\n",
              "         -0.00643564,  0.03540838],\n",
              "        [ 0.04393805, -0.03561968, -0.02256668, ...,  0.02196368,\n",
              "          0.00664861, -0.02519567]],\n",
              "\n",
              "       [[-0.03111434,  0.02994943, -0.00515999, ..., -0.04209473,\n",
              "          0.0267409 , -0.01461345],\n",
              "        [-0.03111434,  0.02994943, -0.00515999, ..., -0.04209473,\n",
              "          0.0267409 , -0.01461345],\n",
              "        [-0.03111434,  0.02994943, -0.00515999, ..., -0.04209473,\n",
              "          0.0267409 , -0.01461345],\n",
              "        ...,\n",
              "        [ 0.04490528,  0.00823531, -0.01461153, ..., -0.02700151,\n",
              "          0.04479275,  0.02660776],\n",
              "        [ 0.01298691, -0.00185151, -0.01288682, ..., -0.04851537,\n",
              "          0.0020129 ,  0.01296169],\n",
              "        [-0.01381215,  0.01480511,  0.03155631, ...,  0.02830323,\n",
              "         -0.04522055,  0.03379468]],\n",
              "\n",
              "       [[-0.03111434,  0.02994943, -0.00515999, ..., -0.04209473,\n",
              "          0.0267409 , -0.01461345],\n",
              "        [-0.03111434,  0.02994943, -0.00515999, ..., -0.04209473,\n",
              "          0.0267409 , -0.01461345],\n",
              "        [-0.03111434,  0.02994943, -0.00515999, ..., -0.04209473,\n",
              "          0.0267409 , -0.01461345],\n",
              "        ...,\n",
              "        [-0.03278124, -0.0287531 ,  0.02995075, ..., -0.01603345,\n",
              "         -0.03387757,  0.03335497],\n",
              "        [-0.0150936 ,  0.04691433,  0.01093427, ...,  0.00307771,\n",
              "         -0.01312947,  0.02597911],\n",
              "        [-0.03940568, -0.03413222, -0.04113928, ...,  0.01406563,\n",
              "          0.0422214 ,  0.00241914]],\n",
              "\n",
              "       [[-0.03111434,  0.02994943, -0.00515999, ..., -0.04209473,\n",
              "          0.0267409 , -0.01461345],\n",
              "        [-0.03111434,  0.02994943, -0.00515999, ..., -0.04209473,\n",
              "          0.0267409 , -0.01461345],\n",
              "        [-0.03111434,  0.02994943, -0.00515999, ..., -0.04209473,\n",
              "          0.0267409 , -0.01461345],\n",
              "        ...,\n",
              "        [-0.02520197,  0.0075173 , -0.04266008, ...,  0.01018852,\n",
              "          0.03597451, -0.03882792],\n",
              "        [ 0.04850772,  0.04646857, -0.04464935, ...,  0.02474897,\n",
              "         -0.02251412, -0.01410527],\n",
              "        [-0.03269847, -0.00643035, -0.01340964, ...,  0.01142591,\n",
              "         -0.0308629 , -0.00381581]]], dtype=float32)"
            ]
          },
          "metadata": {},
          "execution_count": 130
        }
      ]
    },
    {
      "cell_type": "code",
      "source": [
        "embedded_docs[0]"
      ],
      "metadata": {
        "colab": {
          "base_uri": "https://localhost:8080/"
        },
        "id": "mNRWlcgmFFgS",
        "outputId": "5489ee54-d455-4064-e693-038359a754e0"
      },
      "execution_count": 131,
      "outputs": [
        {
          "output_type": "execute_result",
          "data": {
            "text/plain": [
              "array([   0,    0,    0,    0,    0,    0,    0,    0,    0,    0,    0,\n",
              "          0,    0,    0,    0,    0,    0,    0, 5330,  120, 5986,  988,\n",
              "       5330, 5861, 3420, 1058, 5330, 8753, 8335, 2183], dtype=int32)"
            ]
          },
          "metadata": {},
          "execution_count": 131
        }
      ]
    },
    {
      "cell_type": "code",
      "source": [
        "single_input = np.expand_dims(embedded_docs[0], axis=0)\n",
        "output = model.predict(single_input)\n",
        "output"
      ],
      "metadata": {
        "colab": {
          "base_uri": "https://localhost:8080/"
        },
        "id": "wk_bc302FKFZ",
        "outputId": "58787cd1-0604-4f0e-d1f9-3a69e53daa89"
      },
      "execution_count": 132,
      "outputs": [
        {
          "output_type": "stream",
          "name": "stderr",
          "text": [
            "WARNING:tensorflow:5 out of the last 5 calls to <function TensorFlowTrainer.make_predict_function.<locals>.one_step_on_data_distributed at 0x7febb40e00e0> triggered tf.function retracing. Tracing is expensive and the excessive number of tracings could be due to (1) creating @tf.function repeatedly in a loop, (2) passing tensors with different shapes, (3) passing Python objects instead of tensors. For (1), please define your @tf.function outside of the loop. For (2), @tf.function has reduce_retracing=True option that can avoid unnecessary retracing. For (3), please refer to https://www.tensorflow.org/guide/function#controlling_retracing and https://www.tensorflow.org/api_docs/python/tf/function for  more details.\n"
          ]
        },
        {
          "output_type": "stream",
          "name": "stdout",
          "text": [
            "\u001b[1m1/1\u001b[0m \u001b[32m━━━━━━━━━━━━━━━━━━━━\u001b[0m\u001b[37m\u001b[0m \u001b[1m0s\u001b[0m 103ms/step\n"
          ]
        },
        {
          "output_type": "execute_result",
          "data": {
            "text/plain": [
              "array([[[-3.1114340e-02,  2.9949430e-02, -5.1599853e-03, -2.8229261e-02,\n",
              "         -1.2388937e-03, -9.4914548e-03, -4.5537293e-02, -4.2094730e-02,\n",
              "          2.6740897e-02, -1.4613450e-02],\n",
              "        [-3.1114340e-02,  2.9949430e-02, -5.1599853e-03, -2.8229261e-02,\n",
              "         -1.2388937e-03, -9.4914548e-03, -4.5537293e-02, -4.2094730e-02,\n",
              "          2.6740897e-02, -1.4613450e-02],\n",
              "        [-3.1114340e-02,  2.9949430e-02, -5.1599853e-03, -2.8229261e-02,\n",
              "         -1.2388937e-03, -9.4914548e-03, -4.5537293e-02, -4.2094730e-02,\n",
              "          2.6740897e-02, -1.4613450e-02],\n",
              "        [-3.1114340e-02,  2.9949430e-02, -5.1599853e-03, -2.8229261e-02,\n",
              "         -1.2388937e-03, -9.4914548e-03, -4.5537293e-02, -4.2094730e-02,\n",
              "          2.6740897e-02, -1.4613450e-02],\n",
              "        [-3.1114340e-02,  2.9949430e-02, -5.1599853e-03, -2.8229261e-02,\n",
              "         -1.2388937e-03, -9.4914548e-03, -4.5537293e-02, -4.2094730e-02,\n",
              "          2.6740897e-02, -1.4613450e-02],\n",
              "        [-3.1114340e-02,  2.9949430e-02, -5.1599853e-03, -2.8229261e-02,\n",
              "         -1.2388937e-03, -9.4914548e-03, -4.5537293e-02, -4.2094730e-02,\n",
              "          2.6740897e-02, -1.4613450e-02],\n",
              "        [-3.1114340e-02,  2.9949430e-02, -5.1599853e-03, -2.8229261e-02,\n",
              "         -1.2388937e-03, -9.4914548e-03, -4.5537293e-02, -4.2094730e-02,\n",
              "          2.6740897e-02, -1.4613450e-02],\n",
              "        [-3.1114340e-02,  2.9949430e-02, -5.1599853e-03, -2.8229261e-02,\n",
              "         -1.2388937e-03, -9.4914548e-03, -4.5537293e-02, -4.2094730e-02,\n",
              "          2.6740897e-02, -1.4613450e-02],\n",
              "        [-3.1114340e-02,  2.9949430e-02, -5.1599853e-03, -2.8229261e-02,\n",
              "         -1.2388937e-03, -9.4914548e-03, -4.5537293e-02, -4.2094730e-02,\n",
              "          2.6740897e-02, -1.4613450e-02],\n",
              "        [-3.1114340e-02,  2.9949430e-02, -5.1599853e-03, -2.8229261e-02,\n",
              "         -1.2388937e-03, -9.4914548e-03, -4.5537293e-02, -4.2094730e-02,\n",
              "          2.6740897e-02, -1.4613450e-02],\n",
              "        [-3.1114340e-02,  2.9949430e-02, -5.1599853e-03, -2.8229261e-02,\n",
              "         -1.2388937e-03, -9.4914548e-03, -4.5537293e-02, -4.2094730e-02,\n",
              "          2.6740897e-02, -1.4613450e-02],\n",
              "        [-3.1114340e-02,  2.9949430e-02, -5.1599853e-03, -2.8229261e-02,\n",
              "         -1.2388937e-03, -9.4914548e-03, -4.5537293e-02, -4.2094730e-02,\n",
              "          2.6740897e-02, -1.4613450e-02],\n",
              "        [-3.1114340e-02,  2.9949430e-02, -5.1599853e-03, -2.8229261e-02,\n",
              "         -1.2388937e-03, -9.4914548e-03, -4.5537293e-02, -4.2094730e-02,\n",
              "          2.6740897e-02, -1.4613450e-02],\n",
              "        [-3.1114340e-02,  2.9949430e-02, -5.1599853e-03, -2.8229261e-02,\n",
              "         -1.2388937e-03, -9.4914548e-03, -4.5537293e-02, -4.2094730e-02,\n",
              "          2.6740897e-02, -1.4613450e-02],\n",
              "        [-3.1114340e-02,  2.9949430e-02, -5.1599853e-03, -2.8229261e-02,\n",
              "         -1.2388937e-03, -9.4914548e-03, -4.5537293e-02, -4.2094730e-02,\n",
              "          2.6740897e-02, -1.4613450e-02],\n",
              "        [-3.1114340e-02,  2.9949430e-02, -5.1599853e-03, -2.8229261e-02,\n",
              "         -1.2388937e-03, -9.4914548e-03, -4.5537293e-02, -4.2094730e-02,\n",
              "          2.6740897e-02, -1.4613450e-02],\n",
              "        [-3.1114340e-02,  2.9949430e-02, -5.1599853e-03, -2.8229261e-02,\n",
              "         -1.2388937e-03, -9.4914548e-03, -4.5537293e-02, -4.2094730e-02,\n",
              "          2.6740897e-02, -1.4613450e-02],\n",
              "        [-3.1114340e-02,  2.9949430e-02, -5.1599853e-03, -2.8229261e-02,\n",
              "         -1.2388937e-03, -9.4914548e-03, -4.5537293e-02, -4.2094730e-02,\n",
              "          2.6740897e-02, -1.4613450e-02],\n",
              "        [-4.8674535e-02,  8.3643794e-03, -6.6784769e-04, -4.9700011e-02,\n",
              "          4.7716532e-02, -3.0283583e-02,  4.4420172e-02, -4.2928804e-02,\n",
              "         -6.4867251e-03,  2.3771454e-02],\n",
              "        [ 1.6213059e-03, -3.9175034e-02,  1.2167465e-02, -3.4829270e-02,\n",
              "          4.9226906e-02, -2.6682628e-02, -3.3560775e-02,  5.7504065e-03,\n",
              "         -1.7977156e-02,  2.4731670e-02],\n",
              "        [ 1.0363571e-03, -2.1827077e-02, -5.5525079e-03, -3.7876330e-02,\n",
              "         -2.2124564e-02,  8.5715167e-03,  4.7744419e-02,  3.0396108e-02,\n",
              "          4.1741762e-02,  2.5688183e-02],\n",
              "        [ 1.9337956e-02, -4.8408974e-02, -9.1053545e-05, -4.6415221e-02,\n",
              "          4.5597587e-02,  9.0204962e-03,  2.2346947e-02,  3.0635644e-02,\n",
              "         -4.2574167e-02,  2.9496327e-03],\n",
              "        [-4.8674535e-02,  8.3643794e-03, -6.6784769e-04, -4.9700011e-02,\n",
              "          4.7716532e-02, -3.0283583e-02,  4.4420172e-02, -4.2928804e-02,\n",
              "         -6.4867251e-03,  2.3771454e-02],\n",
              "        [ 3.4834910e-02,  6.3331053e-04, -2.5150442e-02, -1.4402114e-02,\n",
              "          1.4750864e-02, -4.1784454e-02,  4.4275474e-02,  3.7258375e-02,\n",
              "          4.7057319e-02, -3.6360621e-02],\n",
              "        [-1.3406038e-02, -2.2591257e-02, -1.6986810e-02, -1.8378384e-03,\n",
              "         -2.9114282e-02,  2.7630601e-02,  2.0659495e-02,  1.5066419e-02,\n",
              "          3.9104071e-02, -1.8631686e-02],\n",
              "        [-2.9628610e-02,  4.1785646e-02, -6.5004714e-03,  9.4651058e-04,\n",
              "         -9.8444931e-03,  2.3825679e-02, -2.8432310e-02,  8.1677437e-03,\n",
              "         -3.5469640e-02,  1.4018003e-02],\n",
              "        [-4.8674535e-02,  8.3643794e-03, -6.6784769e-04, -4.9700011e-02,\n",
              "          4.7716532e-02, -3.0283583e-02,  4.4420172e-02, -4.2928804e-02,\n",
              "         -6.4867251e-03,  2.3771454e-02],\n",
              "        [-2.6518023e-02,  1.4060009e-02, -2.1366203e-02, -3.5250843e-02,\n",
              "         -8.1297979e-03, -1.4005639e-02, -5.4876208e-03, -1.5016459e-02,\n",
              "          4.6872940e-02, -2.0651376e-02],\n",
              "        [ 5.3651258e-04, -2.8098334e-02, -4.6865225e-02, -8.2821473e-03,\n",
              "          4.4510100e-02,  2.4823938e-02, -2.0015085e-02, -1.2990128e-02,\n",
              "         -6.4356439e-03,  3.5408381e-02],\n",
              "        [ 4.3938052e-02, -3.5619676e-02, -2.2566676e-02, -4.9933221e-02,\n",
              "          4.7233786e-02, -1.0053396e-02,  1.0095336e-02,  2.1963682e-02,\n",
              "          6.6486113e-03, -2.5195671e-02]]], dtype=float32)"
            ]
          },
          "metadata": {},
          "execution_count": 132
        }
      ]
    }
  ]
}